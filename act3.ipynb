import pandas as pd
import seaborn as sns

df = pd.read_csv(“”)

df.head() (para ver la tabla como tal)

plt.figure(figsize=(12,6))
sns.boxplot(data=df,x="Gender",y="Spending Score (1-100)"
)
plt.title()
plt.xticks(rotation=45)
plt.show()
